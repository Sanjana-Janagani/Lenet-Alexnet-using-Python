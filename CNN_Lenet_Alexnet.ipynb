{
  "nbformat": 4,
  "nbformat_minor": 0,
  "metadata": {
    "colab": {
      "provenance": [],
      "gpuType": "T4"
    },
    "kernelspec": {
      "name": "python3",
      "display_name": "Python 3"
    },
    "language_info": {
      "name": "python"
    },
    "accelerator": "GPU"
  },
  "cells": [
    {
      "cell_type": "markdown",
      "source": [
        "CIFAR-10 LENET"
      ],
      "metadata": {
        "id": "aS4ZugU1SSvd"
      }
    },
    {
      "cell_type": "code",
      "execution_count": null,
      "metadata": {
        "id": "06ftJBEoAkk1"
      },
      "outputs": [],
      "source": [
        "import tensorflow.keras.datasets as datasets\n",
        "import tensorflow.keras.models as models\n",
        "import tensorflow.keras.layers as layers\n",
        "import tensorflow.keras.callbacks\n",
        "from tensorflow.keras.utils import to_categorical\n",
        "import numpy as np\n",
        "import pandas as pd"
      ]
    },
    {
      "cell_type": "code",
      "source": [
        "(x_train,y_train),(x_test,y_test)=datasets.cifar10.load_data()\n",
        "x_train=x_train.astype('float32')\n",
        "x_test=x_test.astype('float32')"
      ],
      "metadata": {
        "id": "kcnZ8lbQLyfe",
        "colab": {
          "base_uri": "https://localhost:8080/"
        },
        "outputId": "786a3ec5-9576-4b12-9ab9-aa3a8a1b15a9"
      },
      "execution_count": null,
      "outputs": [
        {
          "output_type": "stream",
          "name": "stdout",
          "text": [
            "Downloading data from https://www.cs.toronto.edu/~kriz/cifar-10-python.tar.gz\n",
            "170498071/170498071 [==============================] - 5s 0us/step\n"
          ]
        }
      ]
    },
    {
      "cell_type": "code",
      "source": [
        "num_labels = len(np.unique(y_train))"
      ],
      "metadata": {
        "id": "qmwPj0W8MKzn"
      },
      "execution_count": null,
      "outputs": []
    },
    {
      "cell_type": "code",
      "source": [
        "num_labels"
      ],
      "metadata": {
        "colab": {
          "base_uri": "https://localhost:8080/"
        },
        "id": "9ApNW2I0MVLu",
        "outputId": "568e0da7-31aa-4f9c-9b71-35fcb2baf060"
      },
      "execution_count": null,
      "outputs": [
        {
          "output_type": "execute_result",
          "data": {
            "text/plain": [
              "10"
            ]
          },
          "metadata": {},
          "execution_count": 4
        }
      ]
    },
    {
      "cell_type": "code",
      "source": [
        "#Input Image Dimensions\n",
        "image_size=x_train.shape[1]"
      ],
      "metadata": {
        "id": "5CAAVlVIMWOu"
      },
      "execution_count": null,
      "outputs": []
    },
    {
      "cell_type": "code",
      "source": [
        "image_size"
      ],
      "metadata": {
        "colab": {
          "base_uri": "https://localhost:8080/"
        },
        "id": "btLUGusNMcrl",
        "outputId": "f21b895e-c328-4202-c9b1-5ec9cc41d6c2"
      },
      "execution_count": null,
      "outputs": [
        {
          "output_type": "execute_result",
          "data": {
            "text/plain": [
              "32"
            ]
          },
          "metadata": {},
          "execution_count": 6
        }
      ]
    },
    {
      "cell_type": "code",
      "source": [
        "  x_train = x_train.astype('float32')/255.0\n",
        "  x_test = x_test.astype('float32')/255.0"
      ],
      "metadata": {
        "id": "VgJmLhkGNraP"
      },
      "execution_count": null,
      "outputs": []
    },
    {
      "cell_type": "code",
      "source": [
        "y_train = to_categorical(y_train)\n",
        "y_test = to_categorical(y_test)"
      ],
      "metadata": {
        "id": "Tk_aRQefN8JN"
      },
      "execution_count": null,
      "outputs": []
    },
    {
      "cell_type": "code",
      "source": [
        "image_channels = 3\n",
        "image_rows = 32\n",
        "image_cols = 32"
      ],
      "metadata": {
        "id": "gB7qtMk2ODU4"
      },
      "execution_count": null,
      "outputs": []
    },
    {
      "cell_type": "code",
      "source": [
        "batch_size = 128\n",
        "epochs = 20\n",
        "classes = 10\n",
        "verbose = 1\n",
        "validation_split = 0.4\n",
        "optim = tensorflow.keras.optimizers.Adam(learning_rate = 0.01)"
      ],
      "metadata": {
        "id": "41QPh90AOM-J"
      },
      "execution_count": null,
      "outputs": []
    },
    {
      "cell_type": "code",
      "source": [
        "def LeNet(input_shape = x_train[1:],classes=10):\n",
        "  model =models.Sequential()\n",
        "  model.add(layers.Convolution2D(6,(5,5),activation='tanh'))\n",
        "  model.add(layers.AveragePooling2D(pool_size=(2,2),strides=2))\n",
        "  model.add(layers.Convolution2D(16,(5,5),activation='tanh'))\n",
        "  model.add(layers.AveragePooling2D(pool_size=(2,2),strides=2))\n",
        "  model.add(layers.Convolution2D(120,(5,5),activation='tanh'))\n",
        "  model.add(layers.Flatten())\n",
        "  model.add(layers.Dense(84,activation='tanh'))\n",
        "  model.add(layers.Dropout(0.5))\n",
        "  model.add(layers.Dense(10,activation='softmax'))\n",
        "  return model"
      ],
      "metadata": {
        "id": "ZqO_1cZVPIMA"
      },
      "execution_count": null,
      "outputs": []
    },
    {
      "cell_type": "code",
      "source": [
        "callbacks = [ tensorflow.keras.callbacks.TensorBoard(log_dir = './logs')]"
      ],
      "metadata": {
        "id": "efDfvBsuQSyT"
      },
      "execution_count": null,
      "outputs": []
    },
    {
      "cell_type": "code",
      "source": [
        "model = LeNet(input_shape=x_train[1:],classes=10)"
      ],
      "metadata": {
        "id": "h6iz9GtvQh03"
      },
      "execution_count": null,
      "outputs": []
    },
    {
      "cell_type": "code",
      "source": [
        "model.compile(loss='categorical_crossentropy',optimizer=optim,metrics=['accuracy'])\n",
        "model.fit(x_train,y_train,batch_size=batch_size,epochs=epochs,validation_split=validation_split,verbose=verbose,callbacks=callbacks)\n",
        "score=model.evaluate(x_test,y_test,batch_size=batch_size,verbose=verbose)\n",
        "print(score)"
      ],
      "metadata": {
        "colab": {
          "base_uri": "https://localhost:8080/"
        },
        "id": "3axKWX-8Qr0_",
        "outputId": "c73fbb2d-164c-4987-e975-5efac51ae40c"
      },
      "execution_count": null,
      "outputs": [
        {
          "output_type": "stream",
          "name": "stdout",
          "text": [
            "Epoch 1/20\n",
            "235/235 [==============================] - 8s 11ms/step - loss: 2.2492 - accuracy: 0.1777 - val_loss: 2.0443 - val_accuracy: 0.2417\n",
            "Epoch 2/20\n",
            "235/235 [==============================] - 2s 8ms/step - loss: 2.0035 - accuracy: 0.2566 - val_loss: 1.9096 - val_accuracy: 0.3067\n",
            "Epoch 3/20\n",
            "235/235 [==============================] - 2s 6ms/step - loss: 1.8627 - accuracy: 0.3167 - val_loss: 1.7679 - val_accuracy: 0.3439\n",
            "Epoch 4/20\n",
            "235/235 [==============================] - 2s 9ms/step - loss: 1.8149 - accuracy: 0.3371 - val_loss: 1.7268 - val_accuracy: 0.3651\n",
            "Epoch 5/20\n",
            "235/235 [==============================] - 2s 7ms/step - loss: 1.7742 - accuracy: 0.3534 - val_loss: 1.7738 - val_accuracy: 0.3519\n",
            "Epoch 6/20\n",
            "235/235 [==============================] - 2s 6ms/step - loss: 1.7350 - accuracy: 0.3683 - val_loss: 1.6660 - val_accuracy: 0.3925\n",
            "Epoch 7/20\n",
            "235/235 [==============================] - 2s 8ms/step - loss: 1.7312 - accuracy: 0.3689 - val_loss: 1.7026 - val_accuracy: 0.3695\n",
            "Epoch 8/20\n",
            "235/235 [==============================] - 2s 6ms/step - loss: 1.7053 - accuracy: 0.3852 - val_loss: 1.7276 - val_accuracy: 0.3792\n",
            "Epoch 9/20\n",
            "235/235 [==============================] - 1s 6ms/step - loss: 1.6962 - accuracy: 0.3867 - val_loss: 1.6820 - val_accuracy: 0.3899\n",
            "Epoch 10/20\n",
            "235/235 [==============================] - 2s 8ms/step - loss: 1.6976 - accuracy: 0.3893 - val_loss: 1.6361 - val_accuracy: 0.4084\n",
            "Epoch 11/20\n",
            "235/235 [==============================] - 2s 9ms/step - loss: 1.6711 - accuracy: 0.3962 - val_loss: 1.6475 - val_accuracy: 0.3965\n",
            "Epoch 12/20\n",
            "235/235 [==============================] - 2s 8ms/step - loss: 1.6664 - accuracy: 0.3956 - val_loss: 1.6308 - val_accuracy: 0.4151\n",
            "Epoch 13/20\n",
            "235/235 [==============================] - 2s 8ms/step - loss: 1.6745 - accuracy: 0.3945 - val_loss: 1.6509 - val_accuracy: 0.3859\n",
            "Epoch 14/20\n",
            "235/235 [==============================] - 2s 8ms/step - loss: 1.6711 - accuracy: 0.3976 - val_loss: 1.6777 - val_accuracy: 0.3899\n",
            "Epoch 15/20\n",
            "235/235 [==============================] - 2s 7ms/step - loss: 1.6800 - accuracy: 0.3901 - val_loss: 1.6288 - val_accuracy: 0.4089\n",
            "Epoch 16/20\n",
            "235/235 [==============================] - 2s 8ms/step - loss: 1.6569 - accuracy: 0.4015 - val_loss: 1.6468 - val_accuracy: 0.3966\n",
            "Epoch 17/20\n",
            "235/235 [==============================] - 2s 8ms/step - loss: 1.6569 - accuracy: 0.4007 - val_loss: 1.5514 - val_accuracy: 0.4326\n",
            "Epoch 18/20\n",
            "235/235 [==============================] - 2s 10ms/step - loss: 1.6394 - accuracy: 0.4107 - val_loss: 1.6230 - val_accuracy: 0.3903\n",
            "Epoch 19/20\n",
            "235/235 [==============================] - 2s 7ms/step - loss: 1.6627 - accuracy: 0.3969 - val_loss: 1.5798 - val_accuracy: 0.4159\n",
            "Epoch 20/20\n",
            "235/235 [==============================] - 2s 8ms/step - loss: 1.6516 - accuracy: 0.4007 - val_loss: 1.6246 - val_accuracy: 0.4090\n",
            "79/79 [==============================] - 0s 5ms/step - loss: 1.6098 - accuracy: 0.4235\n",
            "[1.609845757484436, 0.4235000014305115]\n"
          ]
        }
      ]
    },
    {
      "cell_type": "markdown",
      "source": [
        "CIFAR-100 LENET"
      ],
      "metadata": {
        "id": "5cz2YrWxStLd"
      }
    },
    {
      "cell_type": "code",
      "source": [
        "import tensorflow.keras.datasets as datasets\n",
        "import tensorflow.keras.models as models\n",
        "import tensorflow.keras.layers as layers\n",
        "import tensorflow.keras.callbacks\n",
        "from tensorflow.keras.utils import to_categorical\n",
        "import numpy as np\n",
        "import pandas as pd"
      ],
      "metadata": {
        "id": "9zIxarpBSgxg"
      },
      "execution_count": null,
      "outputs": []
    },
    {
      "cell_type": "code",
      "source": [
        "(x_train,y_train),(x_test,y_test)=datasets.cifar100.load_data()\n",
        "x_train=x_train.astype('float32')\n",
        "x_test=x_test.astype('float32')"
      ],
      "metadata": {
        "id": "qW1lXOkJS1cH",
        "colab": {
          "base_uri": "https://localhost:8080/"
        },
        "outputId": "0996a3c9-ac04-4333-87f6-c9043ceedc73"
      },
      "execution_count": null,
      "outputs": [
        {
          "output_type": "stream",
          "name": "stdout",
          "text": [
            "Downloading data from https://www.cs.toronto.edu/~kriz/cifar-100-python.tar.gz\n",
            "169001437/169001437 [==============================] - 4s 0us/step\n"
          ]
        }
      ]
    },
    {
      "cell_type": "code",
      "source": [
        "num_labels = len(np.unique(y_train))"
      ],
      "metadata": {
        "id": "rlG2sm-0S7ig"
      },
      "execution_count": null,
      "outputs": []
    },
    {
      "cell_type": "code",
      "source": [
        "num_labels"
      ],
      "metadata": {
        "colab": {
          "base_uri": "https://localhost:8080/"
        },
        "id": "hRiqeM8YS95f",
        "outputId": "f5df980c-4b76-44c5-a9e5-8df96eb5da4e"
      },
      "execution_count": null,
      "outputs": [
        {
          "output_type": "execute_result",
          "data": {
            "text/plain": [
              "100"
            ]
          },
          "metadata": {},
          "execution_count": 20
        }
      ]
    },
    {
      "cell_type": "code",
      "source": [
        "#Input Image Dimensions\n",
        "image_size=x_train.shape[1]"
      ],
      "metadata": {
        "id": "_y5ASV1rTAD3"
      },
      "execution_count": null,
      "outputs": []
    },
    {
      "cell_type": "code",
      "source": [
        "image_size"
      ],
      "metadata": {
        "colab": {
          "base_uri": "https://localhost:8080/"
        },
        "id": "DOvKh1ctTMD5",
        "outputId": "7f707847-0661-4087-8beb-0ab456bb3f5b"
      },
      "execution_count": null,
      "outputs": [
        {
          "output_type": "execute_result",
          "data": {
            "text/plain": [
              "32"
            ]
          },
          "metadata": {},
          "execution_count": 22
        }
      ]
    },
    {
      "cell_type": "code",
      "source": [
        "x_train = x_train.astype('float32')/255.0\n",
        "x_test = x_test.astype('float32')/255.0"
      ],
      "metadata": {
        "id": "iJ9HkM64TMfI"
      },
      "execution_count": null,
      "outputs": []
    },
    {
      "cell_type": "code",
      "source": [
        "y_train = to_categorical(y_train)\n",
        "y_test = to_categorical(y_test)"
      ],
      "metadata": {
        "id": "P8LyKlQUTQIv"
      },
      "execution_count": null,
      "outputs": []
    },
    {
      "cell_type": "code",
      "source": [
        "image_channels = 3\n",
        "image_rows = 32\n",
        "image_cols = 32"
      ],
      "metadata": {
        "id": "qgSOYbp8TSpv"
      },
      "execution_count": null,
      "outputs": []
    },
    {
      "cell_type": "code",
      "source": [
        "batch_size = 128\n",
        "epochs = 20\n",
        "classes = 100\n",
        "verbose = 1\n",
        "validation_split = 0.4\n",
        "optim = tensorflow.keras.optimizers.Adam(learning_rate = 0.01)"
      ],
      "metadata": {
        "id": "_jLCp8UPTVDn"
      },
      "execution_count": null,
      "outputs": []
    },
    {
      "cell_type": "code",
      "source": [
        "def LeNet(input_shape = x_train[1:],classes=100):\n",
        "  model =models.Sequential()\n",
        "  model.add(layers.Convolution2D(6,(5,5),activation='tanh'))\n",
        "  model.add(layers.AveragePooling2D(pool_size=(2,2),strides=2))\n",
        "  model.add(layers.Convolution2D(16,(5,5),activation='tanh'))\n",
        "  model.add(layers.AveragePooling2D(pool_size=(2,2),strides=2))\n",
        "  model.add(layers.Convolution2D(120,(5,5),activation='tanh'))\n",
        "  model.add(layers.Flatten())\n",
        "  model.add(layers.Dense(84,activation='tanh'))\n",
        "  model.add(layers.Dropout(0.5))\n",
        "  model.add(layers.Dense(100,activation='softmax'))\n",
        "  return model"
      ],
      "metadata": {
        "id": "JsoP95l6TZMY"
      },
      "execution_count": null,
      "outputs": []
    },
    {
      "cell_type": "code",
      "source": [
        "callbacks = [ tensorflow.keras.callbacks.TensorBoard(log_dir = './logs')]"
      ],
      "metadata": {
        "id": "iQPC80RLTbOf"
      },
      "execution_count": null,
      "outputs": []
    },
    {
      "cell_type": "code",
      "source": [
        "model = LeNet(input_shape=x_train[1:],classes=100)"
      ],
      "metadata": {
        "id": "ztT0q6H0TdYX"
      },
      "execution_count": null,
      "outputs": []
    },
    {
      "cell_type": "code",
      "source": [
        "model.compile(loss='categorical_crossentropy',optimizer=optim,metrics=['accuracy'])\n",
        "model.fit(x_train,y_train,batch_size=batch_size,epochs=epochs,validation_split=validation_split,verbose=verbose,callbacks=callbacks)\n",
        "score=model.evaluate(x_test,y_test,batch_size=batch_size,verbose=verbose)\n",
        "print(score)"
      ],
      "metadata": {
        "colab": {
          "base_uri": "https://localhost:8080/"
        },
        "id": "jb_TE9xETfi3",
        "outputId": "85897021-96d7-4a02-90bf-6a59521a0f30"
      },
      "execution_count": null,
      "outputs": [
        {
          "output_type": "stream",
          "name": "stdout",
          "text": [
            "Epoch 1/20\n",
            "235/235 [==============================] - 4s 11ms/step - loss: 4.6893 - accuracy: 0.0223 - val_loss: 4.3433 - val_accuracy: 0.0316\n",
            "Epoch 2/20\n",
            "235/235 [==============================] - 2s 8ms/step - loss: 4.4596 - accuracy: 0.0358 - val_loss: 4.3397 - val_accuracy: 0.0446\n",
            "Epoch 3/20\n",
            "235/235 [==============================] - 2s 8ms/step - loss: 4.3845 - accuracy: 0.0453 - val_loss: 4.1705 - val_accuracy: 0.0613\n",
            "Epoch 4/20\n",
            "235/235 [==============================] - 2s 7ms/step - loss: 4.3396 - accuracy: 0.0521 - val_loss: 4.2792 - val_accuracy: 0.0483\n",
            "Epoch 5/20\n",
            "235/235 [==============================] - 2s 7ms/step - loss: 4.3499 - accuracy: 0.0520 - val_loss: 4.2379 - val_accuracy: 0.0518\n",
            "Epoch 6/20\n",
            "235/235 [==============================] - 2s 8ms/step - loss: 4.3225 - accuracy: 0.0545 - val_loss: 4.1931 - val_accuracy: 0.0641\n",
            "Epoch 7/20\n",
            "235/235 [==============================] - 2s 7ms/step - loss: 4.3023 - accuracy: 0.0592 - val_loss: 4.0194 - val_accuracy: 0.0860\n",
            "Epoch 8/20\n",
            "235/235 [==============================] - 2s 8ms/step - loss: 4.2961 - accuracy: 0.0616 - val_loss: 4.0583 - val_accuracy: 0.0834\n",
            "Epoch 9/20\n",
            "235/235 [==============================] - 2s 9ms/step - loss: 4.2870 - accuracy: 0.0622 - val_loss: 4.1033 - val_accuracy: 0.0792\n",
            "Epoch 10/20\n",
            "235/235 [==============================] - 2s 8ms/step - loss: 4.2669 - accuracy: 0.0644 - val_loss: 4.0319 - val_accuracy: 0.0857\n",
            "Epoch 11/20\n",
            "235/235 [==============================] - 2s 8ms/step - loss: 4.2794 - accuracy: 0.0646 - val_loss: 3.9969 - val_accuracy: 0.0862\n",
            "Epoch 12/20\n",
            "235/235 [==============================] - 2s 7ms/step - loss: 4.2586 - accuracy: 0.0639 - val_loss: 4.0953 - val_accuracy: 0.0718\n",
            "Epoch 13/20\n",
            "235/235 [==============================] - 2s 8ms/step - loss: 4.2410 - accuracy: 0.0692 - val_loss: 4.0336 - val_accuracy: 0.0864\n",
            "Epoch 14/20\n",
            "235/235 [==============================] - 2s 8ms/step - loss: 4.2417 - accuracy: 0.0665 - val_loss: 3.9700 - val_accuracy: 0.0955\n",
            "Epoch 15/20\n",
            "235/235 [==============================] - 2s 7ms/step - loss: 4.2341 - accuracy: 0.0700 - val_loss: 3.9981 - val_accuracy: 0.0882\n",
            "Epoch 16/20\n",
            "235/235 [==============================] - 2s 10ms/step - loss: 4.2221 - accuracy: 0.0692 - val_loss: 4.2304 - val_accuracy: 0.0549\n",
            "Epoch 17/20\n",
            "235/235 [==============================] - 2s 8ms/step - loss: 4.2312 - accuracy: 0.0684 - val_loss: 4.0523 - val_accuracy: 0.0854\n",
            "Epoch 18/20\n",
            "235/235 [==============================] - 2s 7ms/step - loss: 4.2644 - accuracy: 0.0632 - val_loss: 3.9803 - val_accuracy: 0.0923\n",
            "Epoch 19/20\n",
            "235/235 [==============================] - 2s 7ms/step - loss: 4.2307 - accuracy: 0.0697 - val_loss: 4.0147 - val_accuracy: 0.0862\n",
            "Epoch 20/20\n",
            "235/235 [==============================] - 2s 7ms/step - loss: 4.2421 - accuracy: 0.0693 - val_loss: 4.0146 - val_accuracy: 0.0878\n",
            "79/79 [==============================] - 0s 5ms/step - loss: 4.0202 - accuracy: 0.0888\n",
            "[4.020227432250977, 0.08879999816417694]\n"
          ]
        }
      ]
    },
    {
      "cell_type": "markdown",
      "source": [
        "CIFAR-10 ALEXNET"
      ],
      "metadata": {
        "id": "GP4UC99SXbq9"
      }
    },
    {
      "cell_type": "code",
      "source": [
        "import tensorflow.keras.datasets as datasets\n",
        "import tensorflow.keras.models as models\n",
        "import tensorflow.keras.layers as layers\n",
        "import tensorflow.keras.callbacks\n",
        "from tensorflow.keras.utils import to_categorical, plot_model\n",
        "import numpy as np\n",
        "import pandas as pd"
      ],
      "metadata": {
        "id": "l_c5K4dgXZLH"
      },
      "execution_count": null,
      "outputs": []
    },
    {
      "cell_type": "code",
      "source": [
        "(x_train,y_train),(x_test,y_test)=datasets.cifar10.load_data()\n",
        "x_train=x_train.astype('float32')\n",
        "x_test=x_test.astype('float32')"
      ],
      "metadata": {
        "id": "GAq4OgotXn-2"
      },
      "execution_count": null,
      "outputs": []
    },
    {
      "cell_type": "code",
      "source": [
        "num_labels = len(np.unique(y_train))"
      ],
      "metadata": {
        "id": "FYt-nyi7XsEX"
      },
      "execution_count": null,
      "outputs": []
    },
    {
      "cell_type": "code",
      "source": [
        "num_labels"
      ],
      "metadata": {
        "colab": {
          "base_uri": "https://localhost:8080/"
        },
        "id": "W_xZLkoIXwCf",
        "outputId": "16fa8f22-ca9c-4d03-9809-eb677debf359"
      },
      "execution_count": null,
      "outputs": [
        {
          "output_type": "execute_result",
          "data": {
            "text/plain": [
              "10"
            ]
          },
          "metadata": {},
          "execution_count": 20
        }
      ]
    },
    {
      "cell_type": "code",
      "source": [
        "#Input Image Dimensions\n",
        "image_size=x_train.shape[1]"
      ],
      "metadata": {
        "id": "TUhRQZvyXyiX"
      },
      "execution_count": null,
      "outputs": []
    },
    {
      "cell_type": "code",
      "source": [
        "image_size"
      ],
      "metadata": {
        "colab": {
          "base_uri": "https://localhost:8080/"
        },
        "id": "t3iuSpjkX3Bv",
        "outputId": "e45471be-1e79-4442-b1c8-b8796d4ff98e"
      },
      "execution_count": null,
      "outputs": [
        {
          "output_type": "execute_result",
          "data": {
            "text/plain": [
              "32"
            ]
          },
          "metadata": {},
          "execution_count": 22
        }
      ]
    },
    {
      "cell_type": "code",
      "source": [
        "x_train = x_train.astype('float32')/255.0\n",
        "x_test = x_test.astype('float32')/255.0"
      ],
      "metadata": {
        "id": "ZSw13841X4XG"
      },
      "execution_count": null,
      "outputs": []
    },
    {
      "cell_type": "code",
      "source": [
        "y_train = to_categorical(y_train)\n",
        "y_test = to_categorical(y_test)"
      ],
      "metadata": {
        "id": "-Nn7PYQBX4Sm"
      },
      "execution_count": null,
      "outputs": []
    },
    {
      "cell_type": "code",
      "source": [
        "image_channels = 3\n",
        "image_rows = 32\n",
        "image_cols = 32"
      ],
      "metadata": {
        "id": "kDUUMOd7X4OH"
      },
      "execution_count": null,
      "outputs": []
    },
    {
      "cell_type": "code",
      "source": [
        "batch_size = 128\n",
        "epochs = 5\n",
        "classes = 10\n",
        "verbose = 1\n",
        "validation_split = 0.3\n",
        "optim = tensorflow.keras.optimizers.Adagrad(learning_rate = 0.01)"
      ],
      "metadata": {
        "id": "giF_XnFsX4Gf"
      },
      "execution_count": null,
      "outputs": []
    },
    {
      "cell_type": "code",
      "source": [
        "def alexnet(input_shape = x_train[1:],classes=10):\n",
        "  model =models.Sequential()\n",
        "\n",
        "  model.add(layers.Convolution2D(96,(11,11),activation='relu',padding='valid'))\n",
        "  model.add(layers.MaxPooling2D(pool_size=(3,3),strides=2,padding='valid'))\n",
        "\n",
        "  model.add(layers.Convolution2D(256,(5,5),activation='relu',padding='same'))\n",
        "  model.add(layers.MaxPooling2D(pool_size=(3,3),strides=2,padding='valid'))\n",
        "\n",
        "  model.add(layers.Convolution2D(384,(3,3),activation='relu',padding='same'))\n",
        "  model.add(layers.Convolution2D(384,(3,3),activation='relu',padding='same'))\n",
        "  model.add(layers.Convolution2D(256,(3,3),activation='relu',padding='same'))\n",
        "  model.add(layers.MaxPooling2D(pool_size=(3,3),strides=2,padding='valid'))\n",
        "\n",
        "  model.add(layers.Flatten())\n",
        "\n",
        "  model.add(layers.Dense(4096,activation='relu'))\n",
        "  model.add(layers.Dropout(0.5))\n",
        "\n",
        "  model.add(layers.Dense(4096,activation='relu'))\n",
        "  model.add(layers.Dropout(0.5))\n",
        "\n",
        "  model.add(layers.Dense(10,activation='softmax'))\n",
        "  return model"
      ],
      "metadata": {
        "id": "3qSI04XAX35H"
      },
      "execution_count": null,
      "outputs": []
    },
    {
      "cell_type": "code",
      "source": [
        "callbacks = [ tensorflow.keras.callbacks.TensorBoard(log_dir = './logs')]"
      ],
      "metadata": {
        "id": "jcnlpz4mYGZn"
      },
      "execution_count": null,
      "outputs": []
    },
    {
      "cell_type": "code",
      "source": [
        "model = alexnet(input_shape=x_train[1:],classes=10)"
      ],
      "metadata": {
        "id": "sHjPsO-zYGVQ"
      },
      "execution_count": null,
      "outputs": []
    },
    {
      "cell_type": "code",
      "source": [
        "model.compile(loss='categorical_crossentropy',optimizer=optim,metrics=['accuracy'])\n",
        "model.fit(x_train,y_train,batch_size=batch_size,epochs=epochs,validation_split= validation_split,verbose=verbose,callbacks=callbacks)\n",
        "score=model.evaluate(x_test,y_test,batch_size=batch_size,verbose=verbose)\n",
        "print('\\nScore:',score)"
      ],
      "metadata": {
        "colab": {
          "base_uri": "https://localhost:8080/"
        },
        "id": "6G1J2un3SKSG",
        "outputId": "f2bbc4c5-4325-48a8-bdbb-a18a7fe35084"
      },
      "execution_count": null,
      "outputs": [
        {
          "output_type": "stream",
          "name": "stdout",
          "text": [
            "Epoch 1/5\n",
            "274/274 [==============================] - 9s 32ms/step - loss: 1.6705 - accuracy: 0.3881 - val_loss: 1.6378 - val_accuracy: 0.3967\n",
            "Epoch 2/5\n",
            "274/274 [==============================] - 8s 28ms/step - loss: 1.5894 - accuracy: 0.4221 - val_loss: 1.5452 - val_accuracy: 0.4337\n",
            "Epoch 3/5\n",
            "274/274 [==============================] - 8s 29ms/step - loss: 1.5165 - accuracy: 0.4469 - val_loss: 1.5075 - val_accuracy: 0.4533\n",
            "Epoch 4/5\n",
            "274/274 [==============================] - 8s 29ms/step - loss: 1.4598 - accuracy: 0.4708 - val_loss: 1.4606 - val_accuracy: 0.4708\n",
            "Epoch 5/5\n",
            "274/274 [==============================] - 8s 30ms/step - loss: 1.4081 - accuracy: 0.4889 - val_loss: 1.4421 - val_accuracy: 0.4786\n",
            "79/79 [==============================] - 1s 12ms/step - loss: 1.4312 - accuracy: 0.4865\n",
            "\n",
            "Score: [1.4312180280685425, 0.48649999499320984]\n"
          ]
        }
      ]
    },
    {
      "cell_type": "code",
      "source": [
        "plot_model(model,show_shapes=True)"
      ],
      "metadata": {
        "colab": {
          "base_uri": "https://localhost:8080/",
          "height": 1000
        },
        "id": "bPlYXWH0Rx_p",
        "outputId": "b320d793-20b9-4982-f8d0-79859e2e50c9"
      },
      "execution_count": null,
      "outputs": [
        {
          "output_type": "execute_result",
          "data": {
            "image/png": "[encoded data removed]",
            "text/plain": [
              "<IPython.core.display.Image object>"
            ]
          },
          "metadata": {},
          "execution_count": 38
        }
      ]
    },
    {
      "cell_type": "markdown",
      "source": [
        "CIFAR-100 ALEXNET"
      ],
      "metadata": {
        "id": "i4Zwyt5xRLDA"
      }
    },
    {
      "cell_type": "code",
      "source": [
        "import tensorflow.keras.datasets as datasets\n",
        "import tensorflow.keras.models as models\n",
        "import tensorflow.keras.layers as layers\n",
        "import tensorflow.keras.callbacks\n",
        "from tensorflow.keras.utils import to_categorical\n",
        "import numpy as np\n",
        "import pandas as pd"
      ],
      "metadata": {
        "id": "uZ-TfOBgRSIw"
      },
      "execution_count": null,
      "outputs": []
    },
    {
      "cell_type": "code",
      "source": [
        "(x_train,y_train),(x_test,y_test)=datasets.cifar100.load_data()\n",
        "x_train=x_train.astype('float32')\n",
        "x_test=x_test.astype('float32')"
      ],
      "metadata": {
        "id": "kKi0RwXKRSkp"
      },
      "execution_count": null,
      "outputs": []
    },
    {
      "cell_type": "code",
      "source": [
        "num_labels = len(np.unique(y_train))"
      ],
      "metadata": {
        "id": "BEZlJxnuRVVI"
      },
      "execution_count": null,
      "outputs": []
    },
    {
      "cell_type": "code",
      "source": [
        "num_labels"
      ],
      "metadata": {
        "colab": {
          "base_uri": "https://localhost:8080/"
        },
        "id": "z2NA5btWRZgY",
        "outputId": "1d2fa9ef-566a-4e52-eb00-d988bc40d32a"
      },
      "execution_count": null,
      "outputs": [
        {
          "output_type": "execute_result",
          "data": {
            "text/plain": [
              "100"
            ]
          },
          "metadata": {},
          "execution_count": 53
        }
      ]
    },
    {
      "cell_type": "code",
      "source": [
        "#Input Image Dimensions\n",
        "image_size=x_train.shape[1]"
      ],
      "metadata": {
        "id": "eex3y8L4RbmI"
      },
      "execution_count": null,
      "outputs": []
    },
    {
      "cell_type": "code",
      "source": [
        "image_size"
      ],
      "metadata": {
        "colab": {
          "base_uri": "https://localhost:8080/"
        },
        "id": "eIQrF5wuReBw",
        "outputId": "ff737eee-377d-4691-bbfe-27d815298bb5"
      },
      "execution_count": null,
      "outputs": [
        {
          "output_type": "execute_result",
          "data": {
            "text/plain": [
              "32"
            ]
          },
          "metadata": {},
          "execution_count": 55
        }
      ]
    },
    {
      "cell_type": "code",
      "source": [
        "x_train = x_train.astype('float32')/255.0\n",
        "x_test = x_test.astype('float32')/255.0"
      ],
      "metadata": {
        "id": "kvidA-j0RfaQ"
      },
      "execution_count": null,
      "outputs": []
    },
    {
      "cell_type": "code",
      "source": [
        "y_train = to_categorical(y_train)\n",
        "y_test = to_categorical(y_test)"
      ],
      "metadata": {
        "id": "W2IujRJ2Rh_4"
      },
      "execution_count": null,
      "outputs": []
    },
    {
      "cell_type": "code",
      "source": [
        "image_channels = 3\n",
        "image_rows = 32\n",
        "image_cols = 32"
      ],
      "metadata": {
        "id": "96Rx_6ugRkWI"
      },
      "execution_count": null,
      "outputs": []
    },
    {
      "cell_type": "code",
      "source": [
        "batch_size = 128\n",
        "epochs = 20\n",
        "classes = 100\n",
        "verbose = 1\n",
        "validation_split = 0.3\n",
        "optim = tensorflow.keras.optimizers.Adagrad(learning_rate = 0.01)"
      ],
      "metadata": {
        "id": "8ePykrNHRmJ4"
      },
      "execution_count": null,
      "outputs": []
    },
    {
      "cell_type": "code",
      "source": [
        "def alexnet(input_shape = x_train[1:],classes=100):\n",
        "  model =models.Sequential()\n",
        "\n",
        "  model.add(layers.Convolution2D(96,(11,11),activation='relu',padding='valid'))\n",
        "  model.add(layers.MaxPooling2D(pool_size=(3,3),strides=2,padding='valid'))\n",
        "\n",
        "  model.add(layers.Convolution2D(256,(5,5),activation='relu',padding='same'))\n",
        "  model.add(layers.MaxPooling2D(pool_size=(3,3),strides=2,padding='valid'))\n",
        "\n",
        "  model.add(layers.Convolution2D(384,(3,3),activation='relu',padding='same'))\n",
        "  model.add(layers.Convolution2D(384,(3,3),activation='relu',padding='same'))\n",
        "  model.add(layers.Convolution2D(256,(3,3),activation='relu',padding='same'))\n",
        "  model.add(layers.MaxPooling2D(pool_size=(3,3),strides=2,padding='valid'))\n",
        "\n",
        "  model.add(layers.Flatten())\n",
        "\n",
        "  model.add(layers.Dense(4096,activation='relu'))\n",
        "  model.add(layers.Dropout(0.5))\n",
        "\n",
        "  model.add(layers.Dense(4096,activation='relu'))\n",
        "  model.add(layers.Dropout(0.5))\n",
        "\n",
        "  model.add(layers.Dense(100,activation='softmax'))\n",
        "  return model"
      ],
      "metadata": {
        "id": "gfYwRQpPRpoh"
      },
      "execution_count": null,
      "outputs": []
    },
    {
      "cell_type": "code",
      "source": [
        "callbacks = [ tensorflow.keras.callbacks.TensorBoard(log_dir = './logs')]"
      ],
      "metadata": {
        "id": "MW1BXHfPRsKI"
      },
      "execution_count": null,
      "outputs": []
    },
    {
      "cell_type": "code",
      "source": [
        "model = alexnet(input_shape=x_train[1:],classes=100)"
      ],
      "metadata": {
        "id": "0vYoJV6_Ru-w"
      },
      "execution_count": null,
      "outputs": []
    },
    {
      "cell_type": "code",
      "source": [
        "model.compile(loss='categorical_crossentropy',optimizer=optim,metrics=['accuracy'])\n",
        "model.fit(x_train,y_train,batch_size=batch_size,epochs=epochs,validation_split=validation_split,verbose=verbose,callbacks=callbacks)\n",
        "score=model.evaluate(x_test,y_test,batch_size=batch_size,verbose=verbose)\n",
        "print(score)"
      ],
      "metadata": {
        "colab": {
          "base_uri": "https://localhost:8080/"
        },
        "id": "1X7ydXGIRzCB",
        "outputId": "c005e894-876f-47f7-8597-c0837ee52a5e"
      },
      "execution_count": null,
      "outputs": [
        {
          "output_type": "stream",
          "name": "stdout",
          "text": [
            "Epoch 1/20\n",
            "274/274 [==============================] - 12s 36ms/step - loss: 4.6050 - accuracy: 0.0105 - val_loss: 4.6042 - val_accuracy: 0.0117\n",
            "Epoch 2/20\n",
            "274/274 [==============================] - 9s 33ms/step - loss: 4.6031 - accuracy: 0.0129 - val_loss: 4.6005 - val_accuracy: 0.0171\n",
            "Epoch 3/20\n",
            "274/274 [==============================] - 9s 33ms/step - loss: 4.5824 - accuracy: 0.0160 - val_loss: 4.4831 - val_accuracy: 0.0229\n",
            "Epoch 4/20\n",
            "274/274 [==============================] - 9s 33ms/step - loss: 4.4375 - accuracy: 0.0222 - val_loss: 4.4270 - val_accuracy: 0.0265\n",
            "Epoch 5/20\n",
            "274/274 [==============================] - 9s 33ms/step - loss: 4.3432 - accuracy: 0.0289 - val_loss: 4.2521 - val_accuracy: 0.0374\n",
            "Epoch 6/20\n",
            "274/274 [==============================] - 9s 33ms/step - loss: 4.2570 - accuracy: 0.0393 - val_loss: 4.1794 - val_accuracy: 0.0502\n",
            "Epoch 7/20\n",
            "274/274 [==============================] - 9s 32ms/step - loss: 4.1871 - accuracy: 0.0459 - val_loss: 4.1654 - val_accuracy: 0.0535\n",
            "Epoch 8/20\n",
            "274/274 [==============================] - 9s 33ms/step - loss: 4.1315 - accuracy: 0.0554 - val_loss: 4.0651 - val_accuracy: 0.0741\n",
            "Epoch 9/20\n",
            "274/274 [==============================] - 9s 32ms/step - loss: 4.0557 - accuracy: 0.0705 - val_loss: 3.9793 - val_accuracy: 0.0889\n",
            "Epoch 10/20\n",
            "274/274 [==============================] - 9s 32ms/step - loss: 3.9892 - accuracy: 0.0799 - val_loss: 3.9933 - val_accuracy: 0.0839\n",
            "Epoch 11/20\n",
            "274/274 [==============================] - 9s 33ms/step - loss: 3.9149 - accuracy: 0.0925 - val_loss: 3.8830 - val_accuracy: 0.1083\n",
            "Epoch 12/20\n",
            "274/274 [==============================] - 9s 33ms/step - loss: 3.8452 - accuracy: 0.1061 - val_loss: 3.8028 - val_accuracy: 0.1145\n",
            "Epoch 13/20\n",
            "274/274 [==============================] - 9s 33ms/step - loss: 3.7775 - accuracy: 0.1175 - val_loss: 3.7241 - val_accuracy: 0.1307\n",
            "Epoch 14/20\n",
            "274/274 [==============================] - 9s 33ms/step - loss: 3.7033 - accuracy: 0.1299 - val_loss: 3.7370 - val_accuracy: 0.1287\n",
            "Epoch 15/20\n",
            "274/274 [==============================] - 9s 33ms/step - loss: 3.6285 - accuracy: 0.1399 - val_loss: 3.7329 - val_accuracy: 0.1248\n",
            "Epoch 16/20\n",
            "274/274 [==============================] - 9s 33ms/step - loss: 3.5633 - accuracy: 0.1508 - val_loss: 3.6069 - val_accuracy: 0.1502\n",
            "Epoch 17/20\n",
            "274/274 [==============================] - 9s 32ms/step - loss: 3.4946 - accuracy: 0.1666 - val_loss: 3.5927 - val_accuracy: 0.1551\n",
            "Epoch 18/20\n",
            "274/274 [==============================] - 9s 33ms/step - loss: 3.4343 - accuracy: 0.1750 - val_loss: 3.4249 - val_accuracy: 0.1786\n",
            "Epoch 19/20\n",
            "274/274 [==============================] - 9s 33ms/step - loss: 3.3808 - accuracy: 0.1842 - val_loss: 3.3659 - val_accuracy: 0.1918\n",
            "Epoch 20/20\n",
            "274/274 [==============================] - 9s 33ms/step - loss: 3.3216 - accuracy: 0.1969 - val_loss: 3.3700 - val_accuracy: 0.1917\n",
            "79/79 [==============================] - 1s 11ms/step - loss: 3.3633 - accuracy: 0.1894\n",
            "[3.363321542739868, 0.18940000236034393]\n"
          ]
        }
      ]
    }
  ]
}